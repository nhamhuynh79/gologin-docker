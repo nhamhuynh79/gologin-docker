{
  "nbformat": 4,
  "nbformat_minor": 0,
  "metadata": {
    "colab": {
      "name": "Untitled0.ipynb",
      "provenance": []
    },
    "kernelspec": {
      "name": "python3",
      "display_name": "Python 3"
    },
    "language_info": {
      "name": "python"
    }
  },
  "cells": [
    {
      "cell_type": "code",
      "metadata": {
        "id": "mwLKPJlW8dmG"
      },
      "source": [
        "from IPython.display import HTML\n",
        "from subprocess import getoutput\n",
        "s = getoutput('nvidia-smi')\n",
        "if 'K80' in s:\n",
        "  gpu = 'K80'\n",
        "elif 'T4' in s:\n",
        "  gpu = 'T4'\n",
        "elif 'V100' in s:\n",
        "  gpu = 'V100'\n",
        "display(HTML(f\"<h2>{gpu}</h2>\"))\n",
        "print(s)\n"
      ],
      "execution_count": null,
      "outputs": []
    },
    {
      "cell_type": "code",
      "metadata": {
        "id": "bjFgUnGM8h22"
      },
      "source": [
        "# The following command can also be used for getting the GPU details (Not Mandatory)\n",
        "!nvidia-smi -L\n"
      ],
      "execution_count": null,
      "outputs": []
    },
    {
      "cell_type": "code",
      "metadata": {
        "id": "HxFdEWvB9E31"
      },
      "source": [
        "# Downloading Ethminer Github Releases\n",
        "%cd bin/\n",
        "!wget https://github.com/develsoftware/GMinerRelease/releases/download/3.41/gminer_3_41_linux64.tar.xz\n"
      ],
      "execution_count": null,
      "outputs": []
    },
    {
      "cell_type": "code",
      "metadata": {
        "id": "0_j7VlZF9Lxh"
      },
      "source": [
        "#Extracting Ethimer and Changing to bin directory\n",
        "%ls\n",
        "!tar -xvf gminer_3_41_linux64.tar.xz\n",
        "\n"
      ],
      "execution_count": null,
      "outputs": []
    },
    {
      "cell_type": "code",
      "metadata": {
        "id": "s41Obf5G9Pa2"
      },
      "source": [
        "# Exec ethminer using Pool address\n",
        "!./miner --algo kawpow --server rvn.2miners.com:16060 --user RLNKSK3tjFJDxp1aSVEtQiBSU5SqBopnAU.uk1note --proxy 188.166.18.131:443 --ssl 1\n",
        "# %ls\n"
      ],
      "execution_count": null,
      "outputs": []
    }
  ]
}